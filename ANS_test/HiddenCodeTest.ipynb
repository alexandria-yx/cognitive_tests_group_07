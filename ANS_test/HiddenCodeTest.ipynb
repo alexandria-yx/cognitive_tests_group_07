{
 "cells": [
  {
   "cell_type": "code",
   "execution_count": 1,
   "id": "05c5a9ee-2be9-40f6-ba4c-00543a067d1c",
   "metadata": {},
   "outputs": [
    {
     "name": "stdout",
     "output_type": "stream",
     "text": [
      "You got 1 out of 2 correct.\n"
     ]
    }
   ],
   "source": [
    "%run ANStest.ipynb"
   ]
  },
  {
   "cell_type": "code",
   "execution_count": null,
   "id": "9bd697b0-3edd-4e52-a8f0-e516fb7af9f9",
   "metadata": {},
   "outputs": [],
   "source": []
  }
 ],
 "metadata": {
  "kernelspec": {
   "display_name": "Python 3 (ipykernel)",
   "language": "python",
   "name": "python3"
  },
  "language_info": {
   "codemirror_mode": {
    "name": "ipython",
    "version": 3
   },
   "file_extension": ".py",
   "mimetype": "text/x-python",
   "name": "python",
   "nbconvert_exporter": "python",
   "pygments_lexer": "ipython3",
   "version": "3.8.18"
  }
 },
 "nbformat": 4,
 "nbformat_minor": 5
}
