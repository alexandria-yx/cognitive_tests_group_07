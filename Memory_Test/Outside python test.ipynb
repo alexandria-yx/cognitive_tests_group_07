{
 "cells": [
  {
   "cell_type": "code",
   "execution_count": 5,
   "id": "46419955-0949-4c10-a5a5-b82086020b06",
   "metadata": {},
   "outputs": [
    {
     "data": {
      "text/html": [
       "<span style='color: green; font-weight: 500; font-size: 15px;'>You have now completed the memory test, and your total score was 0/26 \n",
       "(0.0%).</span>"
      ],
      "text/plain": [
       "<IPython.core.display.HTML object>"
      ]
     },
     "metadata": {},
     "output_type": "display_data"
    }
   ],
   "source": [
    "%run '2 Memory test.ipynb'"
   ]
  }
 ],
 "metadata": {
  "kernelspec": {
   "display_name": "Python 3 (ipykernel)",
   "language": "python",
   "name": "python3"
  },
  "language_info": {
   "codemirror_mode": {
    "name": "ipython",
    "version": 3
   },
   "file_extension": ".py",
   "mimetype": "text/x-python",
   "name": "python",
   "nbconvert_exporter": "python",
   "pygments_lexer": "ipython3",
   "version": "3.12.2"
  }
 },
 "nbformat": 4,
 "nbformat_minor": 5
}
